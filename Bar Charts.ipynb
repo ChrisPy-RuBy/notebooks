{
 "cells": [
  {
   "cell_type": "code",
   "execution_count": 6,
   "metadata": {},
   "outputs": [],
   "source": [
    "import matplotlib.pyplot as plt\n",
    "import csv\n",
    "import datetime\n",
    "import numpy as np"
   ]
  },
  {
   "cell_type": "markdown",
   "metadata": {},
   "source": [
    "# Useful Bar charts\n",
    "A collection on bar charts that I've actually used and found useful"
   ]
  },
  {
   "cell_type": "code",
   "execution_count": 9,
   "metadata": {},
   "outputs": [
    {
     "data": {
      "image/png": "[encoded data removed]",
      "text/plain": [
       "<Figure size 640x480 with 1 Axes>"
      ]
     },
     "metadata": {},
     "output_type": "display_data"
    }
   ],
   "source": [
    "def processing_times():\n",
    "    earliest_start = 2000000000\n",
    "\n",
    "    with open(path, 'r') as file:\n",
    "        reader = csv.reader(file)\n",
    "        data = []\n",
    "        row_counter = 1\n",
    "        for row in reader:\n",
    "            start = float(row[0])\n",
    "            earliest_start = min([earliest_start, start])\n",
    "            duration = float(row[2])\n",
    "            row_counter += 1\n",
    "            data.append([row_counter,\n",
    "                         start - earliest_start,\n",
    "                         duration])\n",
    "    plot_chart(data)\n",
    "\n",
    "def plot_chart(data):\n",
    "    plt.rcdefaults()\n",
    "    fig, ax = plt.subplots()\n",
    "    plot_data = data\n",
    "    ax.barh([d[0] for d in plot_data],\n",
    "            [d[2] for d in plot_data],\n",
    "            left=[d[1] for d in plot_data],\n",
    "            align='center')\n",
    "    ax.set_xlabel('Seconds')\n",
    "\n",
    "async_data = [[2, 0.0, 0.29416894912719727], [3, 0.01256704330444336, 0.4522678852081299], [4, 0.0007550716400146484, 0.46416592597961426], [5, 0.007719993591308594, 0.4513740539550781], [6, 0.005713939666748047, 0.5007421970367432], [7, 0.010084152221679688, 0.5110528469085693], [8, 0.014280080795288086, 0.5218009948730469], [9, 0.0, 0.6209828853607178], [10, 0.024792909622192383, 0.6160640716552734], [11, 0.04611492156982422, 0.6242029666900635], [12, 0.020038843154907227, 0.5552010536193848], [13, 0.035830020904541016, 0.5928399562835693], [14, 0.05602002143859863, 0.6374938488006592], [15, 0.028902053833007812, 0.6548819541931152], [16, 0.07679104804992676, 0.5941197872161865], [17, 0.09817290306091309, 0.585299015045166], [18, 0.053433895111083984, 0.6659059524536133], [19, 0.06315493583679199, 0.6205101013183594], [20, 0.04169297218322754, 0.683647871017456], [21, 0.05771684646606445, 0.6681721210479736], [22, 0.08175897598266602, 0.6410350799560547]]\n",
    "sync_data = [[2, 0.0, 0.1076650619506836], [3, 0.10809803009033203, 0.11652398109436035], [4, 0.22483205795288086, 0.12624192237854004], [5, 0.3513331413269043, 0.12528181076049805], [6, 0.4768331050872803, 0.10336089134216309], [7, 0.5804040431976318, 0.2631850242614746], [8, 0.8437819480895996, 0.18990111351013184], [9, 1.0339031219482422, 0.12406802177429199], [10, 1.1582410335540771, 0.12193989753723145], [11, 1.2804040908813477, 0.14671993255615234], [12, 1.427725076675415, 0.11504197120666504], [13, 1.5429861545562744, 0.11563777923583984], [14, 1.6588430404663086, 0.14442110061645508], [15, 1.8034660816192627, 0.12204289436340332], [16, 1.9257969856262207, 0.12084603309631348], [17, 2.046875, 0.12019991874694824], [18, 2.1672849655151367, 0.11956405639648438], [19, 2.2870500087738037, 0.10610413551330566], [20, 2.393388032913208, 0.1197059154510498], [21, 2.5133249759674072, 0.1003270149230957], [22, 2.6138789653778076, 0.13034701347351074], [23, 2.7445130348205566, 0.20769500732421875]]\n",
    "plot_chart(sync_data)"
   ]
  },
  {
   "cell_type": "code",
   "execution_count": null,
   "metadata": {},
   "outputs": [],
   "source": []
  },
  {
   "cell_type": "code",
   "execution_count": null,
   "metadata": {},
   "outputs": [],
   "source": []
  },
  {
   "cell_type": "code",
   "execution_count": 12,
   "metadata": {},
   "outputs": [],
   "source": []
  },
  {
   "cell_type": "code",
   "execution_count": null,
   "metadata": {
    "scrolled": true
   },
   "outputs": [],
   "source": []
  },
  {
   "cell_type": "code",
   "execution_count": null,
   "metadata": {},
   "outputs": [],
   "source": []
  },
  {
   "cell_type": "code",
   "execution_count": null,
   "metadata": {},
   "outputs": [],
   "source": []
  }
 ],
 "metadata": {
  "kernelspec": {
   "display_name": "Python 3",
   "language": "python",
   "name": "python3"
  },
  "language_info": {
   "codemirror_mode": {
    "name": "ipython",
    "version": 3
   },
   "file_extension": ".py",
   "mimetype": "text/x-python",
   "name": "python",
   "nbconvert_exporter": "python",
   "pygments_lexer": "ipython3",
   "version": "3.8.3"
  }
 },
 "nbformat": 4,
 "nbformat_minor": 4
}
